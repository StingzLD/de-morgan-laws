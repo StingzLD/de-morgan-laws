{
  "metadata": {
    "language_info": {
      "codemirror_mode": {
        "name": "python",
        "version": 3
      },
      "file_extension": ".py",
      "mimetype": "text/x-python",
      "name": "python",
      "nbconvert_exporter": "python",
      "pygments_lexer": "ipython3",
      "version": "3.8"
    },
    "kernelspec": {
      "name": "python",
      "display_name": "Python (Pyodide)",
      "language": "python"
    }
  },
  "nbformat_minor": 4,
  "nbformat": 4,
  "cells": [
    {
      "cell_type": "markdown",
      "source": "# De Morgan's Laws - A Python Bug?\n\nI stumbled across De Morgan's Laws, and being the kind of person to not take things at face value, I of course opted to verify that what was being said is actually true. In doing so, I believe I have found a potential bug in the Python code.",
      "metadata": {}
    },
    {
      "cell_type": "markdown",
      "source": "For this test, we will use two variables called 'p' and 'q'.<br>\nWhy these letters? Well, you have to mind your 'p's and 'q's, after all!\n\nBoth of the variables will have their values set to 'True'.",
      "metadata": {}
    },
    {
      "cell_type": "code",
      "source": "p = True\nq = True",
      "metadata": {
        "trusted": true
      },
      "execution_count": 1,
      "outputs": []
    },
    {
      "cell_type": "markdown",
      "source": "### De Morgan's Laws\n- The negation of a conjunction is the disjunction of the negations.<br>\n- The negation of a disjunction is the conjunction of the negations.\n\nWhen converted to Python, these laws translate to:\n- not (p and q) == (not p) or (not q)\n- not (p or q) == (not p) and (not q)",
      "metadata": {}
    },
    {
      "cell_type": "markdown",
      "source": "Both of these comparisons should return as True, however the second one returns as False.",
      "metadata": {}
    },
    {
      "cell_type": "code",
      "source": "print(not (p and q) == (not p) or (not q))\nprint(not (p or q) == (not p) and (not q))",
      "metadata": {
        "trusted": true
      },
      "execution_count": 2,
      "outputs": [
        {
          "name": "stdout",
          "text": "True\nFalse\n",
          "output_type": "stream"
        }
      ]
    },
    {
      "cell_type": "markdown",
      "source": "Breaking out the left and right segments and running the code on their own shows that they are, in fact, both returning as False.",
      "metadata": {}
    },
    {
      "cell_type": "code",
      "source": "print(not (p or q))\nprint((not p) and (not q))",
      "metadata": {
        "trusted": true
      },
      "execution_count": 3,
      "outputs": [
        {
          "name": "stdout",
          "text": "False\nFalse\n",
          "output_type": "stream"
        }
      ]
    },
    {
      "cell_type": "markdown",
      "source": "And we can confirm that False == False returns as True.",
      "metadata": {}
    },
    {
      "cell_type": "code",
      "source": "print(False == False)",
      "metadata": {
        "trusted": true
      },
      "execution_count": 4,
      "outputs": [
        {
          "name": "stdout",
          "text": "True\n",
          "output_type": "stream"
        }
      ]
    },
    {
      "cell_type": "markdown",
      "source": "So why does the comparison of these two segments return as False, not True?",
      "metadata": {}
    },
    {
      "cell_type": "code",
      "source": "print(not (p or q) == (not p) and (not q))",
      "metadata": {
        "trusted": true
      },
      "execution_count": 5,
      "outputs": [
        {
          "name": "stdout",
          "text": "False\n",
          "output_type": "stream"
        }
      ]
    },
    {
      "cell_type": "markdown",
      "source": "To help make sense of this, I want to see what happens when the two segments are assigned to variables then compared to one another.",
      "metadata": {}
    },
    {
      "cell_type": "code",
      "source": "left = not (p or q)\nright = (not p) and (not q)\n\nprint(left)\nprint(right)\nprint(left == right)",
      "metadata": {
        "trusted": true
      },
      "execution_count": 6,
      "outputs": [
        {
          "name": "stdout",
          "text": "False\nFalse\nTrue\n",
          "output_type": "stream"
        }
      ]
    },
    {
      "cell_type": "markdown",
      "source": "As you can see, when each segment is assigned to a variable, the proper result of the comparison is returned.\n\nThe question now is what is taking place when the two segments are compared to one another in their raw form that is causing the logic to not behave as it should?\n\nIs this a bug in the Python code?",
      "metadata": {}
    }
  ]
}